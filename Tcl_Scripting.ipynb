{
 "cells": [
  {
   "cell_type": "markdown",
   "id": "7316eb72",
   "metadata": {},
   "source": [
    "Importing Libraries needed to run script"
   ]
  },
  {
   "cell_type": "code",
   "execution_count": 3,
   "id": "fc89e174-4bd3-4334-9423-b2e9011005e5",
   "metadata": {},
   "outputs": [],
   "source": [
    "import os\n",
    "import numpy as np\n",
    "import pandas as pd1\n",
    "import shutil\n",
    "import csv"
   ]
  },
  {
   "cell_type": "code",
   "execution_count": 5,
   "id": "2b6a486e-5610-47f2-8c8f-f0b40e16adc4",
   "metadata": {
    "tags": []
   },
   "outputs": [
    {
     "data": {
      "text/plain": [
       "0"
      ]
     },
     "execution_count": 5,
     "metadata": {},
     "output_type": "execute_result"
    }
   ],
   "source": [
    "os.system(\"vivado -mode batch -source Script/tcl_add.tcl -tclargs {}\".format(\"top_dff.v\"))"
   ]
  },
  {
   "cell_type": "code",
   "execution_count": 8,
   "id": "e3703c42-9847-41d4-ad94-15116ee2bfbb",
   "metadata": {},
   "outputs": [],
   "source": []
  },
  {
   "cell_type": "code",
   "execution_count": 6,
   "id": "47d8e94a-95b4-4a18-9834-bfd4e70743ff",
   "metadata": {},
   "outputs": [
    {
     "data": {
      "text/plain": [
       "0"
      ]
     },
     "execution_count": 6,
     "metadata": {},
     "output_type": "execute_result"
    }
   ],
   "source": [
    "os.system(\"vivado -mode batch -source Script/tcl_run.tcl -tclargs {}\".format(\"top_dff\"))"
   ]
  },
  {
   "cell_type": "code",
   "execution_count": 5,
   "id": "725acb52-9ad4-4bd8-823b-0fd8d7cdc6e5",
   "metadata": {},
   "outputs": [],
   "source": [
    "impl_dir = os.listdir(\"Impl\")"
   ]
  },
  {
   "cell_type": "markdown",
   "id": "0c9fcf5e",
   "metadata": {},
   "source": [
    "Generating Result.csv file \n",
    "The approach is to search for certain text in the generated reports and extract out the numerical values needed."
   ]
  },
  {
   "cell_type": "code",
   "execution_count": 7,
   "id": "3bfbc79b-cde0-4eb1-879f-aafac4fd8995",
   "metadata": {},
   "outputs": [
    {
     "name": "stdout",
     "output_type": "stream",
     "text": [
      "4.014\n",
      "2.753\n",
      "1.261\n"
     ]
    }
   ],
   "source": [
    "DatapathDelay = []\n",
    "logic_delay=[]\n",
    "routing_delay=[]\n",
    "\n",
    "file_name=[]\n",
    "\n",
    "DynamicPower = []\n",
    "static_power=[]\n",
    "signal_power=[]\n",
    "logic_power=[]\n",
    "i_o_power=[]\n",
    "total_power=[]\n",
    "\n",
    "\n",
    "f7_muxes=[]\n",
    "lut_as_memory=[]\n",
    "lut_as_logic=[]\n",
    "slice_lut=[]\n",
    "lut1=[]\n",
    "lut2=[]\n",
    "lut3=[]\n",
    "lut4=[]\n",
    "lut5=[]\n",
    "lut6=[]\n",
    "lut7=[]\n",
    "\n",
    "\n",
    "with open(\"timing.txt\") as f:\n",
    "    lines = f.read()\n",
    "    timing = lines.split(\"\\n\")\n",
    "        \n",
    "    timing_info = [line for line in timing if \"Data Path Delay\" in line]\n",
    "    dpd = float(timing_info[0].split()[3][:-2])\n",
    "    DatapathDelay.append(dpd)\n",
    "    print(dpd)\n",
    "\n",
    "    timing_info = [line for line in timing if \"Data Path Delay\" in line]\n",
    "    dpd = float(timing_info[0].split()[5][:-2])\n",
    "    logic_delay.append(dpd)\n",
    "    print(dpd)\n",
    "\n",
    "    timing_info = [line for line in timing if \"Data Path Delay\" in line]\n",
    "    dpd = float(timing_info[0].split()[8][:-2])\n",
    "    routing_delay.append(dpd)\n",
    "    print(dpd)\n"
   ]
  },
  {
   "cell_type": "code",
   "execution_count": 8,
   "id": "10e911d7-5cf3-47d1-95b4-a3848c307702",
   "metadata": {},
   "outputs": [],
   "source": []
  },
  {
   "cell_type": "code",
   "execution_count": 9,
   "id": "63cf471c-9db6-4f3b-9a6b-9bdc1434b549",
   "metadata": {},
   "outputs": [],
   "source": []
  },
  {
   "cell_type": "code",
   "execution_count": null,
   "id": "9d2a42af-d383-4a7b-9719-a3476e42cb88",
   "metadata": {},
   "outputs": [],
   "source": []
  }
 ],
 "metadata": {
  "kernelspec": {
   "display_name": "Python 3",
   "language": "python",
   "name": "python3"
  },
  "language_info": {
   "codemirror_mode": {
    "name": "ipython",
    "version": 3
   },
   "file_extension": ".py",
   "mimetype": "text/x-python",
   "name": "python",
   "nbconvert_exporter": "python",
   "pygments_lexer": "ipython3",
   "version": "3.6.8"
  }
 },
 "nbformat": 4,
 "nbformat_minor": 5
}
